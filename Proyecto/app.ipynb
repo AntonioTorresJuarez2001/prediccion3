{
 "cells": [
  {
   "cell_type": "code",
   "execution_count": null,
   "id": "f0102c46",
   "metadata": {},
   "outputs": [
    {
     "name": "stdout",
     "output_type": "stream",
     "text": [
      " * Serving Flask app '__main__'\n",
      " * Debug mode: off\n"
     ]
    },
    {
     "name": "stderr",
     "output_type": "stream",
     "text": [
      "WARNING: This is a development server. Do not use it in a production deployment. Use a production WSGI server instead.\n",
      " * Running on http://127.0.0.1:5000\n",
      "Press CTRL+C to quit\n",
      "127.0.0.1 - - [25/May/2024 01:21:47] \"GET / HTTP/1.1\" 200 -\n",
      "/root/anaconda3/lib/python3.11/site-packages/sklearn/base.py:439: UserWarning: X does not have valid feature names, but StandardScaler was fitted with feature names\n",
      "  warnings.warn(\n",
      "127.0.0.1 - - [25/May/2024 01:21:57] \"POST / HTTP/1.1\" 200 -\n",
      "/root/anaconda3/lib/python3.11/site-packages/sklearn/base.py:439: UserWarning: X does not have valid feature names, but StandardScaler was fitted with feature names\n",
      "  warnings.warn(\n",
      "127.0.0.1 - - [25/May/2024 01:22:04] \"POST / HTTP/1.1\" 200 -\n",
      "/root/anaconda3/lib/python3.11/site-packages/sklearn/base.py:439: UserWarning: X does not have valid feature names, but StandardScaler was fitted with feature names\n",
      "  warnings.warn(\n",
      "127.0.0.1 - - [25/May/2024 01:22:11] \"POST / HTTP/1.1\" 200 -\n",
      "/root/anaconda3/lib/python3.11/site-packages/sklearn/base.py:439: UserWarning: X does not have valid feature names, but StandardScaler was fitted with feature names\n",
      "  warnings.warn(\n",
      "127.0.0.1 - - [25/May/2024 01:22:20] \"POST / HTTP/1.1\" 200 -\n",
      "/root/anaconda3/lib/python3.11/site-packages/sklearn/base.py:439: UserWarning: X does not have valid feature names, but StandardScaler was fitted with feature names\n",
      "  warnings.warn(\n",
      "127.0.0.1 - - [25/May/2024 01:22:37] \"POST / HTTP/1.1\" 200 -\n",
      "/root/anaconda3/lib/python3.11/site-packages/sklearn/base.py:439: UserWarning: X does not have valid feature names, but StandardScaler was fitted with feature names\n",
      "  warnings.warn(\n",
      "127.0.0.1 - - [25/May/2024 01:22:51] \"POST / HTTP/1.1\" 200 -\n",
      "/root/anaconda3/lib/python3.11/site-packages/sklearn/base.py:439: UserWarning: X does not have valid feature names, but StandardScaler was fitted with feature names\n",
      "  warnings.warn(\n",
      "127.0.0.1 - - [25/May/2024 01:23:03] \"POST / HTTP/1.1\" 200 -\n",
      "/root/anaconda3/lib/python3.11/site-packages/sklearn/base.py:439: UserWarning: X does not have valid feature names, but StandardScaler was fitted with feature names\n",
      "  warnings.warn(\n",
      "127.0.0.1 - - [25/May/2024 01:23:13] \"POST / HTTP/1.1\" 200 -\n"
     ]
    }
   ],
   "source": [
    "from flask import Flask, request, render_template\n",
    "import joblib\n",
    "import numpy as np\n",
    "\n",
    "app = Flask(__name__)\n",
    "\n",
    "# Carga el modelo entrenado y el escalador\n",
    "model = joblib.load('modelo_produccion_sobreprecios.pkl')\n",
    "scaler = joblib.load('scaler_produccion_sobreprecios.pkl')\n",
    "\n",
    "@app.route('/', methods=['GET', 'POST'])\n",
    "def home():\n",
    "    if request.method == 'POST':\n",
    "        try:\n",
    "            # Recupera los datos del formulario y convierte a valores numéricos\n",
    "            Nomestado = str(request.form['Nomestado'])\n",
    "            Nomcultivo = str(request.form['Nomcultivo'])\n",
    "            Sembrada = float(request.form['Sembrada'])\n",
    "            Cosechada = float(request.form['Cosechada'])\n",
    "            Precio_tipo = request.form['Precio_tipo']  # Nuevo campo para seleccionar por kilo o por tonelada\n",
    "\n",
    "            # Convertir el precio de producción a precio por kilo o por tonelada\n",
    "            if Precio_tipo == 'Por Kilo':\n",
    "                Sembrada /= 100  # Convertir a kilos si se seleccionó por kilo\n",
    "                Cosechada /= 100\n",
    "            if Precio_tipo == 'Por Tonelada':\n",
    "                Sembrada *= 10  # Convertir a kilos si se seleccionó por kilo\n",
    "                Cosechada *= 10\n",
    "\n",
    "\n",
    "            # Prepara los datos para el modelo\n",
    "            features = np.array([[Sembrada, Cosechada, Nomestado, Nomcultivo]], dtype=float)\n",
    "\n",
    "            # Aplica el escalado a las características\n",
    "            features_scaled = scaler.transform(features)\n",
    "\n",
    "            # Realiza la predicción\n",
    "            prediction = model.predict(features_scaled)[0]\n",
    "\n",
    "            # Devuelve el resultado de la predicción\n",
    "            return render_template('index.html', prediction_text=f'Producción predicha: {prediction}')\n",
    "        except Exception as e:\n",
    "            return f\"Error: {str(e)}\"\n",
    "    return render_template('index.html')\n",
    "\n",
    "if __name__ == \"__main__\":\n",
    "    app.run()"
   ]
  },
  {
   "cell_type": "code",
   "execution_count": 26,
   "id": "bf959a30",
   "metadata": {},
   "outputs": [
    {
     "ename": "SyntaxError",
     "evalue": "'(' was never closed (3531919154.py, line 17)",
     "output_type": "error",
     "traceback": [
      "\u001b[0;36m  Cell \u001b[0;32mIn[23], line 17\u001b[0;36m\u001b[0m\n\u001b[0;31m    Nomcultivo = str(request.form['Nomcultivo']\u001b[0m\n\u001b[0m                    ^\u001b[0m\n\u001b[0;31mSyntaxError\u001b[0m\u001b[0;31m:\u001b[0m '(' was never closed\n"
     ]
    }
   ],
   "source": [
    "%tb"
   ]
  },
  {
   "cell_type": "code",
   "execution_count": 5,
   "id": "b2851534",
   "metadata": {},
   "outputs": [
    {
     "name": "stdout",
     "output_type": "stream",
     "text": [
      "Defaulting to user installation because normal site-packages is not writeable\n",
      "Requirement already satisfied: jupyter_client in /root/anaconda3/lib/python3.11/site-packages (8.6.0)\n",
      "Collecting jupyter_client\n",
      "  Downloading jupyter_client-8.6.2-py3-none-any.whl.metadata (8.3 kB)\n",
      "Requirement already satisfied: jupyter_core in /root/anaconda3/lib/python3.11/site-packages (5.5.0)\n",
      "Collecting jupyter_core\n",
      "  Downloading jupyter_core-5.7.2-py3-none-any.whl.metadata (3.4 kB)\n",
      "Requirement already satisfied: python-dateutil>=2.8.2 in /root/anaconda3/lib/python3.11/site-packages (from jupyter_client) (2.8.2)\n",
      "Requirement already satisfied: pyzmq>=23.0 in /root/anaconda3/lib/python3.11/site-packages (from jupyter_client) (25.1.2)\n",
      "Requirement already satisfied: tornado>=6.2 in /root/anaconda3/lib/python3.11/site-packages (from jupyter_client) (6.3.3)\n",
      "Requirement already satisfied: traitlets>=5.3 in /root/anaconda3/lib/python3.11/site-packages (from jupyter_client) (5.7.1)\n",
      "Requirement already satisfied: platformdirs>=2.5 in /root/anaconda3/lib/python3.11/site-packages (from jupyter_core) (3.10.0)\n",
      "Requirement already satisfied: six>=1.5 in /root/anaconda3/lib/python3.11/site-packages (from python-dateutil>=2.8.2->jupyter_client) (1.16.0)\n",
      "Downloading jupyter_client-8.6.2-py3-none-any.whl (105 kB)\n",
      "\u001b[2K   \u001b[38;2;114;156;31m━━━━━━━━━━━━━━━━━━━━━━━━━━━━━━━━━━━━━━━\u001b[0m \u001b[32m105.9/105.9 kB\u001b[0m \u001b[31m170.5 kB/s\u001b[0m eta \u001b[36m0:00:00\u001b[0m1m168.5 kB/s\u001b[0m eta \u001b[36m0:00:01\u001b[0m\n",
      "\u001b[?25hDownloading jupyter_core-5.7.2-py3-none-any.whl (28 kB)\n",
      "Installing collected packages: jupyter_core, jupyter_client\n",
      "Successfully installed jupyter_client-8.6.2 jupyter_core-5.7.2\n",
      "Note: you may need to restart the kernel to use updated packages.\n"
     ]
    }
   ],
   "source": [
    "pip install --upgrade jupyter_client jupyter_core"
   ]
  },
  {
   "cell_type": "code",
   "execution_count": null,
   "id": "1fb9f1ca-4a59-4f2b-82ee-c5d0e4225478",
   "metadata": {},
   "outputs": [],
   "source": []
  },
  {
   "cell_type": "code",
   "execution_count": null,
   "id": "9c834788-cc92-40f3-8f38-c75878046d6b",
   "metadata": {},
   "outputs": [],
   "source": []
  }
 ],
 "metadata": {
  "kernelspec": {
   "display_name": "Python 3 (ipykernel)",
   "language": "python",
   "name": "python3"
  },
  "language_info": {
   "codemirror_mode": {
    "name": "ipython",
    "version": 3
   },
   "file_extension": ".py",
   "mimetype": "text/x-python",
   "name": "python",
   "nbconvert_exporter": "python",
   "pygments_lexer": "ipython3",
   "version": "3.11.7"
  }
 },
 "nbformat": 4,
 "nbformat_minor": 5
}
